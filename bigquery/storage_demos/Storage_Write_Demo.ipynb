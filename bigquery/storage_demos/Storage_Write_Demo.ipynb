{
 "cells": [
  {
   "cell_type": "code",
   "execution_count": 1,
   "id": "455c0d9c-5c7f-4353-b953-2f0bb1e10289",
   "metadata": {},
   "outputs": [
    {
     "name": "stdout",
     "output_type": "stream",
     "text": [
      "Overwriting sample_data.proto\n"
     ]
    }
   ],
   "source": [
    "%%writefile sample_data.proto\n",
    "\n",
    "syntax = \"proto2\";\n",
    "\n",
    "message SampleData {\n",
    "\n",
    "  optional double float64_col = 1;\n",
    "  optional int64 int64_col = 2;\n",
    "  optional string string_col = 3;\n",
    "    \n",
    "  required int64 row_num = 4;\n",
    "}\n"
   ]
  },
  {
   "cell_type": "code",
   "execution_count": 2,
   "id": "04fb6834-386d-41cf-bed6-c621e192f3a7",
   "metadata": {},
   "outputs": [],
   "source": [
    "!protoc --python_out=. sample_data.proto"
   ]
  },
  {
   "cell_type": "code",
   "execution_count": 3,
   "id": "6078a851-dbb7-4b50-af2d-bb6d4a3f3b4e",
   "metadata": {},
   "outputs": [],
   "source": [
    "import datetime\n",
    "import decimal\n",
    "\n",
    "from google.cloud import bigquery_storage_v1\n",
    "from google.cloud.bigquery_storage_v1 import types\n",
    "from google.cloud.bigquery_storage_v1 import writer\n",
    "from google.protobuf import descriptor_pb2\n",
    "\n",
    "import sample_data_pb2"
   ]
  },
  {
   "cell_type": "code",
   "execution_count": 4,
   "id": "9f8f981c-854c-4c7b-8bd0-62160c155481",
   "metadata": {},
   "outputs": [],
   "source": [
    "def create_row_data(float64_col: float, int64_col: int, string_col: str, row_num: int ):\n",
    "    row = sample_data_pb2.SampleData()\n",
    "    row.row_num = row_num\n",
    "    row.float64_col = float64_col\n",
    "    row.int64_col = int64_col\n",
    "    row.string_col = string_col\n",
    "    return row.SerializeToString()"
   ]
  },
  {
   "cell_type": "code",
   "execution_count": 5,
   "id": "75921a56-d596-4dfc-a63c-72f8e1108ef5",
   "metadata": {},
   "outputs": [
    {
     "data": {
      "text/plain": [
       "b'\\tffffff\\x02@\\x10\\x02\\x1a\\x05Hello \\x01'"
      ]
     },
     "execution_count": 5,
     "metadata": {},
     "output_type": "execute_result"
    }
   ],
   "source": [
    "create_row_data(2.3,2,'Hello',1)"
   ]
  },
  {
   "cell_type": "code",
   "execution_count": 6,
   "id": "d587bd6a-155a-4092-87b6-5d4e7a8372e8",
   "metadata": {},
   "outputs": [],
   "source": [
    "PROJECT_ID = 'michaelabel-demo'\n",
    "DATASET_ID = 'bq_demos'\n",
    "TABLE_ID = 'storage_demo'\n",
    "\n",
    "write_client = bigquery_storage_v1.BigQueryWriteClient()\n",
    "parent = write_client.table_path(PROJECT_ID, DATASET_ID, TABLE_ID)\n",
    "\n",
    "write_stream = types.WriteStream()\n",
    "write_stream.type_ = types.WriteStream.Type.PENDING\n",
    "\n",
    "write_stream = write_client.create_write_stream(\n",
    "    parent=parent, write_stream=write_stream\n",
    ")\n",
    "\n",
    "stream_name = write_stream.name\n"
   ]
  },
  {
   "cell_type": "code",
   "execution_count": 7,
   "id": "ecf1b749-a704-41ac-b81b-b839673d8e35",
   "metadata": {},
   "outputs": [],
   "source": [
    "request_template = types.AppendRowsRequest()\n",
    "request_template.write_stream = stream_name\n",
    "\n",
    "\n",
    "proto_schema = types.ProtoSchema()\n",
    "proto_descriptor = descriptor_pb2.DescriptorProto()\n",
    "sample_data_pb2.SampleData.DESCRIPTOR.CopyToProto(proto_descriptor)\n",
    "proto_schema.proto_descriptor = proto_descriptor\n",
    "proto_data = types.AppendRowsRequest.ProtoData()\n",
    "proto_data.writer_schema = proto_schema\n",
    "request_template.proto_rows = proto_data"
   ]
  },
  {
   "cell_type": "code",
   "execution_count": 8,
   "id": "a003e862-872c-42c2-ad33-af63ab86e406",
   "metadata": {},
   "outputs": [],
   "source": [
    "append_rows_stream = writer.AppendRowsStream(write_client, request_template)"
   ]
  },
  {
   "cell_type": "code",
   "execution_count": 9,
   "id": "f547ce18-ff1e-4333-b1fe-141b99b3e4bf",
   "metadata": {},
   "outputs": [],
   "source": [
    "proto_rows = types.ProtoRows()\n",
    "\n",
    "proto_rows.serialized_rows.append(create_row_data(1.2, 4, \"Bye.\", 1))"
   ]
  },
  {
   "cell_type": "code",
   "execution_count": 10,
   "id": "401ad3a3-751c-45bc-9538-2c3a324863cd",
   "metadata": {},
   "outputs": [],
   "source": [
    "request = types.AppendRowsRequest()\n",
    "request.offset = 0\n",
    "proto_data = types.AppendRowsRequest.ProtoData()\n",
    "proto_data.rows = proto_rows\n",
    "request.proto_rows = proto_data"
   ]
  },
  {
   "cell_type": "code",
   "execution_count": 11,
   "id": "e26bed44-a840-4a6e-bfe4-ff08ba7a3248",
   "metadata": {},
   "outputs": [],
   "source": [
    "response_future_1 = append_rows_stream.send(request)"
   ]
  },
  {
   "cell_type": "code",
   "execution_count": 12,
   "id": "abfcb3c1-496d-4d3b-8b0b-6304b18d40be",
   "metadata": {},
   "outputs": [
    {
     "name": "stdout",
     "output_type": "stream",
     "text": [
      "append_result {\n",
      "  offset {\n",
      "  }\n",
      "}\n",
      "write_stream: \"projects/michaelabel-demo/datasets/bq_demos/tables/storage_demo/streams/Cic3MGUzOTJlZi0wMDAwLTJlNzgtYmI0ZS1mNDAzMDQ1ZTllZjY6czg\"\n",
      "\n"
     ]
    }
   ],
   "source": [
    "print(response_future_1.result())"
   ]
  },
  {
   "cell_type": "code",
   "execution_count": 13,
   "id": "27ea38ad-3a6a-46f1-9f5c-fce2422e5042",
   "metadata": {},
   "outputs": [],
   "source": [
    "proto_rows = types.ProtoRows()\n",
    "\n",
    "proto_rows.serialized_rows.append(create_row_data(7.52, -93, \"Hello.\", 2))\n",
    "proto_rows.serialized_rows.append(create_row_data(-1.23, 913, \"BigQuery is fun.\", 42))\n",
    "\n",
    "# Since this is the second request, you only need to include the row data.\n",
    "# The name of the stream and protocol buffers DESCRIPTOR is only needed in\n",
    "# the first request.\n",
    "request = types.AppendRowsRequest()\n",
    "proto_data = types.AppendRowsRequest.ProtoData()\n",
    "proto_data.rows = proto_rows\n",
    "request.proto_rows = proto_data\n",
    "\n",
    "# Offset must equal the number of rows that were previously sent.\n",
    "request.offset = 1\n",
    "\n",
    "response_future_2 = append_rows_stream.send(request)"
   ]
  },
  {
   "cell_type": "code",
   "execution_count": 14,
   "id": "d2ebc9ca-a068-42c4-b366-b833119af3f4",
   "metadata": {},
   "outputs": [
    {
     "name": "stdout",
     "output_type": "stream",
     "text": [
      "append_result {\n",
      "  offset {\n",
      "    value: 1\n",
      "  }\n",
      "}\n",
      "\n"
     ]
    }
   ],
   "source": [
    "print(response_future_2.result())"
   ]
  },
  {
   "cell_type": "code",
   "execution_count": 15,
   "id": "85a06a95-ac48-4090-8168-23341cd0df54",
   "metadata": {},
   "outputs": [],
   "source": [
    "append_rows_stream.close()"
   ]
  },
  {
   "cell_type": "code",
   "execution_count": 16,
   "id": "92bfc63f-c3c8-4cf7-a646-4ba281eb5989",
   "metadata": {},
   "outputs": [
    {
     "data": {
      "text/plain": [
       "row_count: 3"
      ]
     },
     "execution_count": 16,
     "metadata": {},
     "output_type": "execute_result"
    }
   ],
   "source": [
    "write_client.finalize_write_stream(name=write_stream.name)"
   ]
  },
  {
   "cell_type": "code",
   "execution_count": 17,
   "id": "8cda2be2-326d-4276-8ef3-e0462e4ba952",
   "metadata": {},
   "outputs": [
    {
     "name": "stdout",
     "output_type": "stream",
     "text": [
      "Writes to stream: 'projects/michaelabel-demo/datasets/bq_demos/tables/storage_demo/streams/Cic3MGUzOTJlZi0wMDAwLTJlNzgtYmI0ZS1mNDAzMDQ1ZTllZjY6czg' have been committed.\n"
     ]
    }
   ],
   "source": [
    "batch_commit_write_streams_request = types.BatchCommitWriteStreamsRequest()\n",
    "batch_commit_write_streams_request.parent = parent\n",
    "batch_commit_write_streams_request.write_streams = [write_stream.name]\n",
    "write_client.batch_commit_write_streams(batch_commit_write_streams_request)\n",
    "\n",
    "print(f\"Writes to stream: '{write_stream.name}' have been committed.\")"
   ]
  },
  {
   "cell_type": "code",
   "execution_count": null,
   "id": "fc61e476-768a-4165-b7a4-c4053901667e",
   "metadata": {},
   "outputs": [],
   "source": []
  }
 ],
 "metadata": {
  "kernelspec": {
   "display_name": "Python (Local)",
   "language": "python",
   "name": "local-base"
  },
  "language_info": {
   "codemirror_mode": {
    "name": "ipython",
    "version": 3
   },
   "file_extension": ".py",
   "mimetype": "text/x-python",
   "name": "python",
   "nbconvert_exporter": "python",
   "pygments_lexer": "ipython3",
   "version": "3.7.12"
  }
 },
 "nbformat": 4,
 "nbformat_minor": 5
}
