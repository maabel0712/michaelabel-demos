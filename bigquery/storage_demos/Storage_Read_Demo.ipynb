{
 "cells": [
  {
   "cell_type": "code",
   "execution_count": 1,
   "id": "a64e7b44-01c4-487b-b658-48a1e3b1f687",
   "metadata": {},
   "outputs": [
    {
     "name": "stdout",
     "output_type": "stream",
     "text": [
      "Requirement already satisfied: google-cloud-bigquery-storage==2.16.0 in ./.local/lib/python3.7/site-packages (2.16.0)\n",
      "Requirement already satisfied: google-api-core[grpc]!=2.0.*,!=2.1.*,!=2.2.*,!=2.3.*,!=2.4.*,!=2.5.*,!=2.6.*,!=2.7.*,<3.0.0dev,>=1.32.0 in /opt/conda/lib/python3.7/site-packages (from google-cloud-bigquery-storage==2.16.0) (2.8.1)\n",
      "Requirement already satisfied: proto-plus<2.0.0dev,>=1.22.0 in /opt/conda/lib/python3.7/site-packages (from google-cloud-bigquery-storage==2.16.0) (1.22.1)\n",
      "Requirement already satisfied: protobuf<5.0.0dev,>=3.19.0 in /opt/conda/lib/python3.7/site-packages (from google-cloud-bigquery-storage==2.16.0) (3.20.1)\n",
      "Requirement already satisfied: requests<3.0.0dev,>=2.18.0 in /opt/conda/lib/python3.7/site-packages (from google-api-core[grpc]!=2.0.*,!=2.1.*,!=2.2.*,!=2.3.*,!=2.4.*,!=2.5.*,!=2.6.*,!=2.7.*,<3.0.0dev,>=1.32.0->google-cloud-bigquery-storage==2.16.0) (2.28.1)\n",
      "Requirement already satisfied: googleapis-common-protos<2.0dev,>=1.56.2 in /opt/conda/lib/python3.7/site-packages (from google-api-core[grpc]!=2.0.*,!=2.1.*,!=2.2.*,!=2.3.*,!=2.4.*,!=2.5.*,!=2.6.*,!=2.7.*,<3.0.0dev,>=1.32.0->google-cloud-bigquery-storage==2.16.0) (1.56.4)\n",
      "Requirement already satisfied: google-auth<3.0dev,>=1.25.0 in /opt/conda/lib/python3.7/site-packages (from google-api-core[grpc]!=2.0.*,!=2.1.*,!=2.2.*,!=2.3.*,!=2.4.*,!=2.5.*,!=2.6.*,!=2.7.*,<3.0.0dev,>=1.32.0->google-cloud-bigquery-storage==2.16.0) (2.11.0)\n",
      "Requirement already satisfied: grpcio<2.0dev,>=1.33.2 in /opt/conda/lib/python3.7/site-packages (from google-api-core[grpc]!=2.0.*,!=2.1.*,!=2.2.*,!=2.3.*,!=2.4.*,!=2.5.*,!=2.6.*,!=2.7.*,<3.0.0dev,>=1.32.0->google-cloud-bigquery-storage==2.16.0) (1.48.1)\n",
      "Requirement already satisfied: grpcio-status<2.0dev,>=1.33.2 in /opt/conda/lib/python3.7/site-packages (from google-api-core[grpc]!=2.0.*,!=2.1.*,!=2.2.*,!=2.3.*,!=2.4.*,!=2.5.*,!=2.6.*,!=2.7.*,<3.0.0dev,>=1.32.0->google-cloud-bigquery-storage==2.16.0) (1.48.1)\n",
      "Requirement already satisfied: rsa<5,>=3.1.4 in /opt/conda/lib/python3.7/site-packages (from google-auth<3.0dev,>=1.25.0->google-api-core[grpc]!=2.0.*,!=2.1.*,!=2.2.*,!=2.3.*,!=2.4.*,!=2.5.*,!=2.6.*,!=2.7.*,<3.0.0dev,>=1.32.0->google-cloud-bigquery-storage==2.16.0) (4.9)\n",
      "Requirement already satisfied: pyasn1-modules>=0.2.1 in /opt/conda/lib/python3.7/site-packages (from google-auth<3.0dev,>=1.25.0->google-api-core[grpc]!=2.0.*,!=2.1.*,!=2.2.*,!=2.3.*,!=2.4.*,!=2.5.*,!=2.6.*,!=2.7.*,<3.0.0dev,>=1.32.0->google-cloud-bigquery-storage==2.16.0) (0.2.7)\n",
      "Requirement already satisfied: six>=1.9.0 in /opt/conda/lib/python3.7/site-packages (from google-auth<3.0dev,>=1.25.0->google-api-core[grpc]!=2.0.*,!=2.1.*,!=2.2.*,!=2.3.*,!=2.4.*,!=2.5.*,!=2.6.*,!=2.7.*,<3.0.0dev,>=1.32.0->google-cloud-bigquery-storage==2.16.0) (1.16.0)\n",
      "Requirement already satisfied: cachetools<6.0,>=2.0.0 in /opt/conda/lib/python3.7/site-packages (from google-auth<3.0dev,>=1.25.0->google-api-core[grpc]!=2.0.*,!=2.1.*,!=2.2.*,!=2.3.*,!=2.4.*,!=2.5.*,!=2.6.*,!=2.7.*,<3.0.0dev,>=1.32.0->google-cloud-bigquery-storage==2.16.0) (5.2.0)\n",
      "Requirement already satisfied: idna<4,>=2.5 in /opt/conda/lib/python3.7/site-packages (from requests<3.0.0dev,>=2.18.0->google-api-core[grpc]!=2.0.*,!=2.1.*,!=2.2.*,!=2.3.*,!=2.4.*,!=2.5.*,!=2.6.*,!=2.7.*,<3.0.0dev,>=1.32.0->google-cloud-bigquery-storage==2.16.0) (3.3)\n",
      "Requirement already satisfied: certifi>=2017.4.17 in /opt/conda/lib/python3.7/site-packages (from requests<3.0.0dev,>=2.18.0->google-api-core[grpc]!=2.0.*,!=2.1.*,!=2.2.*,!=2.3.*,!=2.4.*,!=2.5.*,!=2.6.*,!=2.7.*,<3.0.0dev,>=1.32.0->google-cloud-bigquery-storage==2.16.0) (2022.6.15.2)\n",
      "Requirement already satisfied: urllib3<1.27,>=1.21.1 in /opt/conda/lib/python3.7/site-packages (from requests<3.0.0dev,>=2.18.0->google-api-core[grpc]!=2.0.*,!=2.1.*,!=2.2.*,!=2.3.*,!=2.4.*,!=2.5.*,!=2.6.*,!=2.7.*,<3.0.0dev,>=1.32.0->google-cloud-bigquery-storage==2.16.0) (1.26.11)\n",
      "Requirement already satisfied: charset-normalizer<3,>=2 in /opt/conda/lib/python3.7/site-packages (from requests<3.0.0dev,>=2.18.0->google-api-core[grpc]!=2.0.*,!=2.1.*,!=2.2.*,!=2.3.*,!=2.4.*,!=2.5.*,!=2.6.*,!=2.7.*,<3.0.0dev,>=1.32.0->google-cloud-bigquery-storage==2.16.0) (2.1.1)\n",
      "Requirement already satisfied: pyasn1<0.5.0,>=0.4.6 in /opt/conda/lib/python3.7/site-packages (from pyasn1-modules>=0.2.1->google-auth<3.0dev,>=1.25.0->google-api-core[grpc]!=2.0.*,!=2.1.*,!=2.2.*,!=2.3.*,!=2.4.*,!=2.5.*,!=2.6.*,!=2.7.*,<3.0.0dev,>=1.32.0->google-cloud-bigquery-storage==2.16.0) (0.4.8)\n"
     ]
    }
   ],
   "source": [
    "!pip install --user google-cloud-bigquery-storage==2.16.0"
   ]
  },
  {
   "cell_type": "code",
   "execution_count": null,
   "id": "ba8728e1-f985-4109-99f0-4ba80f640721",
   "metadata": {},
   "outputs": [],
   "source": [
    "# Uncomment and run cell if using Google Colab \n",
    "\n",
    "# from google.colab import auth\n",
    "# auth.authenticate_user()"
   ]
  },
  {
   "cell_type": "code",
   "execution_count": 2,
   "id": "b6693bb4-2625-4f23-b783-9712e31fdf6b",
   "metadata": {},
   "outputs": [],
   "source": [
    "from google.cloud.bigquery_storage import BigQueryReadClient\n",
    "from google.cloud.bigquery_storage import types\n",
    "from google.cloud import bigquery_storage\n",
    "import pandas\n",
    "import os"
   ]
  },
  {
   "cell_type": "code",
   "execution_count": 3,
   "id": "554e3f4a-9569-45a3-b474-d9db56252229",
   "metadata": {},
   "outputs": [],
   "source": [
    "BILLING_PROJECT_ID = 'michaelabel-demo'\n",
    "PROJECT_ID = 'bigquery-public-data'\n",
    "DATASET_ID = 'google_trends'\n",
    "TABLE_ID = 'international_top_rising_terms'\n",
    "\n",
    "table_spec = f'projects/{PROJECT_ID}/datasets/{DATASET_ID}/tables/{TABLE_ID}'\n",
    "parent = f'projects/{BILLING_PROJECT_ID}'"
   ]
  },
  {
   "cell_type": "code",
   "execution_count": 4,
   "id": "fd3eac79-5c06-4002-a56f-74771f51b6a3",
   "metadata": {},
   "outputs": [],
   "source": [
    "read_options = types.ReadSession.TableReadOptions(\n",
    "        selected_fields=[\"term\", \"country_name\", \"region_name\", \"percent_gain\"],\n",
    "        row_restriction='percent_gain > 500'\n",
    ")"
   ]
  },
  {
   "cell_type": "code",
   "execution_count": 5,
   "id": "d3dfad39-6566-48aa-9610-4d59a34a8940",
   "metadata": {},
   "outputs": [],
   "source": [
    "bqstorageclient = bigquery_storage.BigQueryReadClient()\n",
    "\n",
    "requested_session = types.ReadSession(\n",
    "        table=table_spec,\n",
    "        data_format=types.DataFormat.ARROW,\n",
    "        read_options=read_options,\n",
    "    )\n",
    "\n",
    "read_session = bqstorageclient.create_read_session(\n",
    "        parent=parent,\n",
    "        read_session=requested_session,\n",
    "        max_stream_count=4,\n",
    "    )\n",
    "\n",
    "stream = read_session.streams[3] \n",
    "reader = bqstorageclient.read_rows(stream.name)\n",
    "\n"
   ]
  },
  {
   "cell_type": "code",
   "execution_count": 6,
   "id": "78b46375-4c0f-4fb9-9305-2f943941b693",
   "metadata": {},
   "outputs": [
    {
     "name": "stdout",
     "output_type": "stream",
     "text": [
      "  country_name       term region_name  percent_gain\n",
      "0     Malaysia  exit poll    Selangor          1050\n",
      "1     Malaysia  exit poll    Selangor          1050\n",
      "2     Malaysia  exit poll    Selangor          1050\n",
      "3     Malaysia  exit poll    Selangor          1050\n",
      "4     Malaysia  exit poll    Selangor          1050\n",
      "Number of streams:  4\n"
     ]
    }
   ],
   "source": [
    "frames = []\n",
    "for message in reader.rows(read_session).pages:\n",
    "    frames.append(message.to_dataframe())\n",
    "dataframe = pandas.concat(frames)\n",
    "print(dataframe.head())\n",
    "print('Number of streams: ', len(read_session.streams))"
   ]
  },
  {
   "cell_type": "code",
   "execution_count": 7,
   "id": "0a620b61-a70f-4b37-9023-a1cafcf68757",
   "metadata": {},
   "outputs": [],
   "source": [
    "def read_data(table_spec, read_options, no_streams):\n",
    "    \n",
    "    bqstorageclient = bigquery_storage.BigQueryReadClient()\n",
    "\n",
    "    requested_session = types.ReadSession(\n",
    "            table=table_spec,\n",
    "            data_format=types.DataFormat.ARROW,\n",
    "            read_options=read_options,\n",
    "        )\n",
    "\n",
    "    read_session = bqstorageclient.create_read_session(\n",
    "            parent=parent,\n",
    "            read_session=requested_session,\n",
    "            max_stream_count=no_streams,\n",
    "        )\n",
    "\n",
    "    stream = read_session.streams[3] \n",
    "    reader = bqstorageclient.read_rows(stream.name)\n",
    "    \n",
    "    frames = []\n",
    "    for message in reader.rows(read_session).pages:\n",
    "        frames.append(message.to_dataframe())\n",
    "    dataframe = pandas.concat(frames)\n",
    "    print(dataframe.head())\n",
    "    print('Number of streams: ', len(read_session.streams))\n",
    "    \n",
    "    return dataframe "
   ]
  },
  {
   "cell_type": "code",
   "execution_count": 8,
   "id": "d8b5ccbe-4a37-47c2-824f-5c8d5d3f3bf5",
   "metadata": {},
   "outputs": [
    {
     "name": "stdout",
     "output_type": "stream",
     "text": [
      "  country_name       term region_name  percent_gain\n",
      "0     Malaysia  exit poll    Selangor          1050\n",
      "1     Malaysia  exit poll    Selangor          1050\n",
      "2     Malaysia  exit poll    Selangor          1050\n",
      "3     Malaysia  exit poll    Selangor          1050\n",
      "4     Malaysia  exit poll    Selangor          1050\n",
      "Number of streams:  4\n",
      "CPU times: user 42.2 s, sys: 14.6 s, total: 56.8 s\n",
      "Wall time: 44.4 s\n"
     ]
    }
   ],
   "source": [
    "%%time \n",
    "_ = read_data(table_spec, read_options, 4)"
   ]
  },
  {
   "cell_type": "code",
   "execution_count": 9,
   "id": "3ceda32c-c3c1-42e3-ba1c-bdc0feed3eaf",
   "metadata": {},
   "outputs": [
    {
     "name": "stdout",
     "output_type": "stream",
     "text": [
      "  country_name                  term           region_name  percent_gain\n",
      "0      Denmark  australia vs england  North Denmark Region          2000\n",
      "1      Denmark  australia vs england  North Denmark Region          2000\n",
      "2      Denmark  australia vs england  North Denmark Region          2000\n",
      "3      Denmark  australia vs england  North Denmark Region          2000\n",
      "4      Denmark  australia vs england  North Denmark Region          2000\n",
      "Number of streams:  16\n",
      "CPU times: user 7.99 s, sys: 2.56 s, total: 10.6 s\n",
      "Wall time: 9.83 s\n"
     ]
    }
   ],
   "source": [
    "%%time \n",
    "_ = read_data(table_spec, read_options, 16)"
   ]
  },
  {
   "cell_type": "code",
   "execution_count": 16,
   "id": "f2218785-7b64-411d-8f98-745c3ec0f6d6",
   "metadata": {},
   "outputs": [
    {
     "name": "stdout",
     "output_type": "stream",
     "text": [
      "   country_name                  term      region_name  percent_gain\n",
      "0  Saudi Arabia  pakistan vs zimbabwe  Riyadh Province          3750\n",
      "1  Saudi Arabia  pakistan vs zimbabwe  Riyadh Province          3750\n",
      "2  Saudi Arabia  pakistan vs zimbabwe  Riyadh Province          3750\n",
      "3  Saudi Arabia  pakistan vs zimbabwe  Riyadh Province          3750\n",
      "4  Saudi Arabia  pakistan vs zimbabwe  Riyadh Province          3750\n",
      "Number of streams:  64\n",
      "CPU times: user 2.66 s, sys: 941 ms, total: 3.6 s\n",
      "Wall time: 4.44 s\n"
     ]
    }
   ],
   "source": [
    "%%time \n",
    "_ = read_data(table_spec, read_options, 64)"
   ]
  }
 ],
 "metadata": {
  "kernelspec": {
   "display_name": "Python (Local)",
   "language": "python",
   "name": "local-base"
  },
  "language_info": {
   "codemirror_mode": {
    "name": "ipython",
    "version": 3
   },
   "file_extension": ".py",
   "mimetype": "text/x-python",
   "name": "python",
   "nbconvert_exporter": "python",
   "pygments_lexer": "ipython3",
   "version": "3.7.12"
  }
 },
 "nbformat": 4,
 "nbformat_minor": 5
}
